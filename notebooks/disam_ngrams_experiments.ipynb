{
 "cells": [
  {
   "cell_type": "code",
   "execution_count": 1,
   "metadata": {
    "collapsed": true
   },
   "outputs": [],
   "source": [
    "from scripts.morph_aux import *"
   ]
  },
  {
   "cell_type": "code",
   "execution_count": 2,
   "metadata": {
    "collapsed": true
   },
   "outputs": [],
   "source": [
    "TRIGRAMS_FILE = \"data/ngrams/filtered_n3grams.tsv\"\n",
    "VERIFIED_TEXT_WORDS_FILE = \"data/verified_texts/words.csv\"\n",
    "VERIFIED_TEXT_DISAMED_FILE = \"data/verified_texts/disamed.csv\""
   ]
  },
  {
   "cell_type": "markdown",
   "metadata": {
    "collapsed": true
   },
   "source": [
    "# Trigrams with central element to predict"
   ]
  },
  {
   "cell_type": "markdown",
   "metadata": {},
   "source": [
    "## 100000 as train data"
   ]
  },
  {
   "cell_type": "code",
   "execution_count": 3,
   "metadata": {
    "collapsed": true
   },
   "outputs": [],
   "source": [
    "trigrams = load_ngrams(TRIGRAMS_FILE)"
   ]
  },
  {
   "cell_type": "code",
   "execution_count": 4,
   "metadata": {},
   "outputs": [
    {
     "name": "stdout",
     "output_type": "stream",
     "text": [
      "Train set length: 515202\n",
      "Test set length: 57244\n"
     ]
    }
   ],
   "source": [
    "data = [(row[0] + row[2], row[1]) for row in trigrams]\n",
    "\n",
    "import random\n",
    "random.shuffle(data)\n",
    "\n",
    "test31 = data[:len(data)/10]\n",
    "train31 = data[len(data)/10:]\n",
    "print(\"Train set length: %s\\nTest set length: %s\" % (len(train31), len(test31)))"
   ]
  },
  {
   "cell_type": "code",
   "execution_count": 5,
   "metadata": {
    "collapsed": true
   },
   "outputs": [],
   "source": [
    "train311 = train31[:100000]\n",
    "test311 = test31[:20000]"
   ]
  },
  {
   "cell_type": "code",
   "execution_count": 6,
   "metadata": {
    "collapsed": true
   },
   "outputs": [],
   "source": [
    "X311 = [row[0] for row in train311]\n",
    "Y311 = [row[1] for row in train311]"
   ]
  },
  {
   "cell_type": "code",
   "execution_count": 7,
   "metadata": {},
   "outputs": [
    {
     "data": {
      "text/plain": [
       "MLPClassifier(activation='relu', alpha=1e-05, batch_size='auto', beta_1=0.9,\n",
       "       beta_2=0.999, early_stopping=False, epsilon=1e-08,\n",
       "       hidden_layer_sizes=150, learning_rate='constant',\n",
       "       learning_rate_init=0.001, max_iter=200, momentum=0.9,\n",
       "       nesterovs_momentum=True, power_t=0.5, random_state=1, shuffle=True,\n",
       "       solver='lbfgs', tol=0.0001, validation_fraction=0.1, verbose=False,\n",
       "       warm_start=False)"
      ]
     },
     "execution_count": 7,
     "metadata": {},
     "output_type": "execute_result"
    }
   ],
   "source": [
    "from sklearn.neural_network import MLPClassifier\n",
    "clf311 = MLPClassifier(solver='lbfgs', alpha=1e-5,\n",
    "                    hidden_layer_sizes=(150), random_state=1)\n",
    "\n",
    "clf311.fit(X311, Y311)"
   ]
  },
  {
   "cell_type": "markdown",
   "metadata": {},
   "source": [
    "### Test"
   ]
  },
  {
   "cell_type": "code",
   "execution_count": 8,
   "metadata": {},
   "outputs": [
    {
     "name": "stdout",
     "output_type": "stream",
     "text": [
      "Accuracy:  1%\n",
      "Accuracy: 17%\n",
      "Accuracy: 94%\n"
     ]
    }
   ],
   "source": [
    "err, lenX = testit(test311, clf311)\n",
    "print('Accuracy: %2.f%%' % ((lenX - err) * 100./lenX))\n",
    "err, lenX = testit_with_h(test311, clf311, 2)\n",
    "print('Accuracy: %2.f%%' % ((lenX - err) * 100./lenX))\n",
    "err, lenX = testit_with_h(test311, clf311, 5)\n",
    "print('Accuracy: %2.f%%' % ((lenX - err) * 100./lenX))"
   ]
  },
  {
   "cell_type": "markdown",
   "metadata": {},
   "source": [
    "### Validation"
   ]
  },
  {
   "cell_type": "code",
   "execution_count": 9,
   "metadata": {
    "collapsed": true
   },
   "outputs": [],
   "source": [
    "validation_data = load_validation_data(VERIFIED_TEXT_DISAMED_FILE, VERIFIED_TEXT_WORDS_FILE)"
   ]
  },
  {
   "cell_type": "code",
   "execution_count": 10,
   "metadata": {
    "collapsed": true
   },
   "outputs": [],
   "source": [
    "validation_trigrams311 = []\n",
    "for row in validation_data:\n",
    "    validation_trigrams311.append((row[2] + row[4], row[3]))"
   ]
  },
  {
   "cell_type": "code",
   "execution_count": 11,
   "metadata": {},
   "outputs": [
    {
     "name": "stdout",
     "output_type": "stream",
     "text": [
      "Accuracy: 49%\n"
     ]
    }
   ],
   "source": [
    "err, lenX = testit_val(validation_trigrams311, clf311)\n",
    "print('Accuracy: %2.f%%' % ((lenX - err) * 100./lenX))"
   ]
  },
  {
   "cell_type": "code",
   "execution_count": 12,
   "metadata": {},
   "outputs": [
    {
     "name": "stdout",
     "output_type": "stream",
     "text": [
      "0\t22262\t155\n",
      "Accuracy (h=1): 100%\n",
      "Coverage (h=1):  1%\n",
      "1004\t22262\t5576\n",
      "Accuracy (h=3): 82%\n",
      "Coverage (h=3): 25%\n",
      "6781\t22262\t15902\n",
      "Accuracy (h=5): 57%\n",
      "Coverage (h=5): 71%\n"
     ]
    }
   ],
   "source": [
    "err, lenX, lenA = testit_val_with_h(validation_trigrams311, clf311, 1)\n",
    "print(\"%s\\t%s\\t%s\" % (err, lenX, lenA))\n",
    "if lenA > 0:\n",
    "    print('Accuracy (h=1): %2.f%%' % ((lenA - err) * 100./lenA))\n",
    "    print('Coverage (h=1): %2.f%%' % (lenA * 100./lenX))\n",
    "err, lenX, lenA = testit_val_with_h(validation_trigrams311, clf311, 3)\n",
    "print(\"%s\\t%s\\t%s\" % (err, lenX, lenA))\n",
    "if lenA > 0:\n",
    "    print('Accuracy (h=3): %2.f%%' % ((lenA - err) * 100./lenA))\n",
    "    print('Coverage (h=3): %2.f%%' % (lenA * 100./lenX))\n",
    "err, lenX, lenA = testit_val_with_h(validation_trigrams311, clf311, 5)\n",
    "print(\"%s\\t%s\\t%s\" % (err, lenX, lenA))\n",
    "if lenA > 0:\n",
    "    print('Accuracy (h=5): %2.f%%' % ((lenA - err) * 100./lenA))\n",
    "    print('Coverage (h=5): %2.f%%' % (lenA * 100./lenX))"
   ]
  },
  {
   "cell_type": "code",
   "execution_count": 13,
   "metadata": {},
   "outputs": [],
   "source": [
    "resA311, resC311 = acc_cover(validation_trigrams311, clf311)"
   ]
  },
  {
   "cell_type": "code",
   "execution_count": 14,
   "metadata": {},
   "outputs": [
    {
     "data": {
      "image/png": "[encoded data removed]",
      "text/plain": [
       "<matplotlib.figure.Figure at 0x155e71510>"
      ]
     },
     "metadata": {},
     "output_type": "display_data"
    }
   ],
   "source": [
    "import matplotlib.pyplot as plt\n",
    "\n",
    "plt.xlabel('Coverage')\n",
    "plt.ylabel('Accuracy')\n",
    "plt.title('Coverage/Accuracy')\n",
    "plt.plot(resC311, resA311, linewidth=1.0)\n",
    "plt.axis([0, 100, 0, 100])\n",
    "plt.grid(True)\n",
    "plt.show()"
   ]
  },
  {
   "cell_type": "markdown",
   "metadata": {},
   "source": [
    "## 200000 train data"
   ]
  },
  {
   "cell_type": "code",
   "execution_count": 23,
   "metadata": {
    "collapsed": true
   },
   "outputs": [],
   "source": [
    "train312 = train31[:200000]\n",
    "test312 = test31[:20000]"
   ]
  },
  {
   "cell_type": "code",
   "execution_count": 16,
   "metadata": {
    "collapsed": true
   },
   "outputs": [],
   "source": [
    "X312 = [row[0] for row in train312]\n",
    "Y312 = [row[1] for row in train312]"
   ]
  },
  {
   "cell_type": "code",
   "execution_count": 17,
   "metadata": {},
   "outputs": [
    {
     "data": {
      "text/plain": [
       "MLPClassifier(activation='relu', alpha=1e-05, batch_size='auto', beta_1=0.9,\n",
       "       beta_2=0.999, early_stopping=False, epsilon=1e-08,\n",
       "       hidden_layer_sizes=150, learning_rate='constant',\n",
       "       learning_rate_init=0.001, max_iter=200, momentum=0.9,\n",
       "       nesterovs_momentum=True, power_t=0.5, random_state=1, shuffle=True,\n",
       "       solver='lbfgs', tol=0.0001, validation_fraction=0.1, verbose=False,\n",
       "       warm_start=False)"
      ]
     },
     "execution_count": 17,
     "metadata": {},
     "output_type": "execute_result"
    }
   ],
   "source": [
    "from sklearn.neural_network import MLPClassifier\n",
    "clf312 = MLPClassifier(solver='lbfgs', alpha=1e-5,\n",
    "                    hidden_layer_sizes=(150), random_state=1)\n",
    "\n",
    "clf312.fit(X312, Y312)"
   ]
  },
  {
   "cell_type": "markdown",
   "metadata": {},
   "source": [
    "### Test"
   ]
  },
  {
   "cell_type": "code",
   "execution_count": 18,
   "metadata": {},
   "outputs": [
    {
     "name": "stdout",
     "output_type": "stream",
     "text": [
      "Accuracy:  1%\n",
      "Accuracy: 17%\n",
      "Accuracy: 93%\n"
     ]
    }
   ],
   "source": [
    "err, lenX = testit(test312, clf312)\n",
    "print('Accuracy: %2.f%%' % ((lenX - err) * 100./lenX))\n",
    "err, lenX = testit_with_h(test312, clf312, 2)\n",
    "print('Accuracy: %2.f%%' % ((lenX - err) * 100./lenX))\n",
    "err, lenX = testit_with_h(test312, clf312, 5)\n",
    "print('Accuracy: %2.f%%' % ((lenX - err) * 100./lenX))"
   ]
  },
  {
   "cell_type": "code",
   "execution_count": 19,
   "metadata": {
    "collapsed": true
   },
   "outputs": [],
   "source": [
    "resA312, resC312 = acc_cover(validation_trigrams311, clf312)"
   ]
  },
  {
   "cell_type": "code",
   "execution_count": 20,
   "metadata": {},
   "outputs": [
    {
     "data": {
      "image/png": "[encoded data removed]",
      "text/plain": [
       "<matplotlib.figure.Figure at 0x155e71290>"
      ]
     },
     "metadata": {},
     "output_type": "display_data"
    }
   ],
   "source": [
    "import matplotlib.pyplot as plt\n",
    "\n",
    "plt.xlabel('Coverage')\n",
    "plt.ylabel('Accuracy')\n",
    "plt.title('Coverage/Accuracy')\n",
    "plt.plot(resC311, resA311, 'r-', resC312, resA312, 'b-')\n",
    "plt.axis([0, 100, 0, 100])\n",
    "plt.grid(True)\n",
    "plt.show()"
   ]
  },
  {
   "cell_type": "markdown",
   "metadata": {},
   "source": [
    "## 515202 train data"
   ]
  },
  {
   "cell_type": "code",
   "execution_count": 25,
   "metadata": {
    "collapsed": true
   },
   "outputs": [],
   "source": [
    "train313 = train31\n",
    "test313 = test31[:20000]"
   ]
  },
  {
   "cell_type": "code",
   "execution_count": 26,
   "metadata": {},
   "outputs": [],
   "source": [
    "X313 = [row[0] for row in train313]\n",
    "Y313 = [row[1] for row in train313]"
   ]
  },
  {
   "cell_type": "code",
   "execution_count": 28,
   "metadata": {},
   "outputs": [
    {
     "data": {
      "text/plain": [
       "MLPClassifier(activation='relu', alpha=1e-05, batch_size='auto', beta_1=0.9,\n",
       "       beta_2=0.999, early_stopping=False, epsilon=1e-08,\n",
       "       hidden_layer_sizes=150, learning_rate='constant',\n",
       "       learning_rate_init=0.001, max_iter=200, momentum=0.9,\n",
       "       nesterovs_momentum=True, power_t=0.5, random_state=1, shuffle=True,\n",
       "       solver='lbfgs', tol=0.0001, validation_fraction=0.1, verbose=False,\n",
       "       warm_start=False)"
      ]
     },
     "execution_count": 28,
     "metadata": {},
     "output_type": "execute_result"
    }
   ],
   "source": [
    "from sklearn.neural_network import MLPClassifier\n",
    "clf313 = MLPClassifier(solver='lbfgs', alpha=1e-5,\n",
    "                    hidden_layer_sizes=(150), random_state=1)\n",
    "\n",
    "clf313.fit(X313, Y313)"
   ]
  },
  {
   "cell_type": "code",
   "execution_count": 29,
   "metadata": {
    "collapsed": true
   },
   "outputs": [],
   "source": [
    "resA313, resC313 = acc_cover(validation_trigrams311, clf313)"
   ]
  },
  {
   "cell_type": "code",
   "execution_count": 30,
   "metadata": {},
   "outputs": [
    {
     "data": {
      "image/png": "[encoded data removed]",
      "text/plain": [
       "<matplotlib.figure.Figure at 0x10c3b07d0>"
      ]
     },
     "metadata": {},
     "output_type": "display_data"
    }
   ],
   "source": [
    "import matplotlib.pyplot as plt\n",
    "\n",
    "plt.xlabel('Coverage')\n",
    "plt.ylabel('Accuracy')\n",
    "plt.title('Coverage/Accuracy')\n",
    "plt.plot(resC311, resA311, 'r-', resC312, resA312, 'b-', resC313, resA313, 'g-')\n",
    "plt.axis([0, 100, 0, 100])\n",
    "plt.grid(True)\n",
    "plt.show()"
   ]
  },
  {
   "cell_type": "markdown",
   "metadata": {},
   "source": [
    "# Trigram with first element to predict"
   ]
  },
  {
   "cell_type": "code",
   "execution_count": 32,
   "metadata": {},
   "outputs": [
    {
     "name": "stdout",
     "output_type": "stream",
     "text": [
      "Train set length: 515202\n",
      "Test set length: 57244\n"
     ]
    }
   ],
   "source": [
    "data321 = [(row[1] + row[2], row[0]) for row in trigrams]\n",
    "\n",
    "import random\n",
    "random.shuffle(data321)\n",
    "\n",
    "test320 = data321[:len(data)/10]\n",
    "train320 = data321[len(data)/10:]\n",
    "print(\"Train set length: %s\\nTest set length: %s\" % (len(train320), len(test320)))"
   ]
  },
  {
   "cell_type": "code",
   "execution_count": 33,
   "metadata": {
    "collapsed": true
   },
   "outputs": [],
   "source": [
    "train321 = train320[:100000]\n",
    "test321 = test320[:10000]"
   ]
  },
  {
   "cell_type": "code",
   "execution_count": 34,
   "metadata": {
    "collapsed": true
   },
   "outputs": [],
   "source": [
    "X321 = [row[0] for row in train321]\n",
    "Y321 = [row[1] for row in train321]"
   ]
  },
  {
   "cell_type": "code",
   "execution_count": 35,
   "metadata": {},
   "outputs": [
    {
     "data": {
      "text/plain": [
       "MLPClassifier(activation='relu', alpha=1e-05, batch_size='auto', beta_1=0.9,\n",
       "       beta_2=0.999, early_stopping=False, epsilon=1e-08,\n",
       "       hidden_layer_sizes=150, learning_rate='constant',\n",
       "       learning_rate_init=0.001, max_iter=200, momentum=0.9,\n",
       "       nesterovs_momentum=True, power_t=0.5, random_state=1, shuffle=True,\n",
       "       solver='lbfgs', tol=0.0001, validation_fraction=0.1, verbose=False,\n",
       "       warm_start=False)"
      ]
     },
     "execution_count": 35,
     "metadata": {},
     "output_type": "execute_result"
    }
   ],
   "source": [
    "from sklearn.neural_network import MLPClassifier\n",
    "clf321 = MLPClassifier(solver='lbfgs', alpha=1e-5,\n",
    "                    hidden_layer_sizes=(150), random_state=1)\n",
    "\n",
    "clf321.fit(X321, Y321)"
   ]
  },
  {
   "cell_type": "code",
   "execution_count": 36,
   "metadata": {
    "collapsed": true
   },
   "outputs": [],
   "source": [
    "validation_trigrams321 = []\n",
    "for row in validation_data:\n",
    "    validation_trigrams321.append((row[4] + row[5], row[3]))"
   ]
  },
  {
   "cell_type": "code",
   "execution_count": 37,
   "metadata": {
    "collapsed": true
   },
   "outputs": [],
   "source": [
    "resA321, resC321 = acc_cover(validation_trigrams321, clf321)"
   ]
  },
  {
   "cell_type": "code",
   "execution_count": 39,
   "metadata": {},
   "outputs": [
    {
     "data": {
      "image/png": "[encoded data removed]",
      "text/plain": [
       "<matplotlib.figure.Figure at 0x10d704210>"
      ]
     },
     "metadata": {},
     "output_type": "display_data"
    }
   ],
   "source": [
    "import matplotlib.pyplot as plt\n",
    "\n",
    "plt.xlabel('Coverage')\n",
    "plt.ylabel('Accuracy')\n",
    "plt.title('Coverage/Accuracy')\n",
    "plt.plot(resC311, resA311, 'r-', resC321, resA321, 'b-')\n",
    "plt.axis([0, 100, 0, 100])\n",
    "plt.grid(True)\n",
    "plt.show()"
   ]
  },
  {
   "cell_type": "markdown",
   "metadata": {},
   "source": [
    "# Trigram with last element to predict"
   ]
  },
  {
   "cell_type": "code",
   "execution_count": 52,
   "metadata": {},
   "outputs": [
    {
     "name": "stdout",
     "output_type": "stream",
     "text": [
      "Train set length: 515202\n",
      "Test set length: 57244\n"
     ]
    }
   ],
   "source": [
    "data322 = [(row[0] + row[1], row[2]) for row in trigrams]\n",
    "\n",
    "import random\n",
    "random.shuffle(data321)\n",
    "\n",
    "test320 = data322[:len(data)/10]\n",
    "train320 = data322[len(data)/10:]\n",
    "print(\"Train set length: %s\\nTest set length: %s\" % (len(train320), len(test320)))"
   ]
  },
  {
   "cell_type": "code",
   "execution_count": 53,
   "metadata": {
    "collapsed": true
   },
   "outputs": [],
   "source": [
    "train322 = train320[:100000]\n",
    "test322 = test320[:10000]"
   ]
  },
  {
   "cell_type": "code",
   "execution_count": 54,
   "metadata": {
    "collapsed": true
   },
   "outputs": [],
   "source": [
    "X322 = [row[0] for row in train322]\n",
    "Y322 = [row[1] for row in train322]"
   ]
  },
  {
   "cell_type": "code",
   "execution_count": 55,
   "metadata": {},
   "outputs": [
    {
     "data": {
      "text/plain": [
       "MLPClassifier(activation='relu', alpha=1e-05, batch_size='auto', beta_1=0.9,\n",
       "       beta_2=0.999, early_stopping=False, epsilon=1e-08,\n",
       "       hidden_layer_sizes=150, learning_rate='constant',\n",
       "       learning_rate_init=0.001, max_iter=200, momentum=0.9,\n",
       "       nesterovs_momentum=True, power_t=0.5, random_state=1, shuffle=True,\n",
       "       solver='lbfgs', tol=0.0001, validation_fraction=0.1, verbose=False,\n",
       "       warm_start=False)"
      ]
     },
     "execution_count": 55,
     "metadata": {},
     "output_type": "execute_result"
    }
   ],
   "source": [
    "from sklearn.neural_network import MLPClassifier\n",
    "clf322 = MLPClassifier(solver='lbfgs', alpha=1e-5,\n",
    "                    hidden_layer_sizes=(150), random_state=1)\n",
    "\n",
    "clf322.fit(X322, Y322)"
   ]
  },
  {
   "cell_type": "code",
   "execution_count": 56,
   "metadata": {
    "collapsed": true
   },
   "outputs": [],
   "source": [
    "validation_trigrams322 = []\n",
    "for row in validation_data:\n",
    "    validation_trigrams322.append((row[1] + row[2], row[3]))"
   ]
  },
  {
   "cell_type": "code",
   "execution_count": 57,
   "metadata": {
    "collapsed": true
   },
   "outputs": [],
   "source": [
    "resA322, resC322 = acc_cover(validation_trigrams322, clf322)"
   ]
  },
  {
   "cell_type": "code",
   "execution_count": 58,
   "metadata": {},
   "outputs": [
    {
     "data": {
      "image/png": "[encoded data removed]",
      "text/plain": [
       "<matplotlib.figure.Figure at 0x10d86cd90>"
      ]
     },
     "metadata": {},
     "output_type": "display_data"
    }
   ],
   "source": [
    "import matplotlib.pyplot as plt\n",
    "\n",
    "plt.xlabel('Coverage')\n",
    "plt.ylabel('Accuracy')\n",
    "plt.title('Coverage/Accuracy')\n",
    "plt.plot(resC311, resA311, 'r-', resC321, resA321, 'b-', resC322, resA322, 'g-')\n",
    "plt.axis([0, 100, 0, 100])\n",
    "plt.grid(True)\n",
    "plt.show()"
   ]
  },
  {
   "cell_type": "markdown",
   "metadata": {},
   "source": [
    "# 4grams"
   ]
  },
  {
   "cell_type": "code",
   "execution_count": 50,
   "metadata": {
    "collapsed": true
   },
   "outputs": [],
   "source": [
    "N4GRAMS_FILE = \"data/ngrams/filtered_n4grams1.tsv\""
   ]
  },
  {
   "cell_type": "code",
   "execution_count": 51,
   "metadata": {},
   "outputs": [],
   "source": [
    "n4grams = load_ngrams(N4GRAMS_FILE)"
   ]
  },
  {
   "cell_type": "code",
   "execution_count": 59,
   "metadata": {},
   "outputs": [
    {
     "name": "stdout",
     "output_type": "stream",
     "text": [
      "Train set length: 361550\n",
      "Test set length: 40172\n"
     ]
    }
   ],
   "source": [
    "data411 = [(row[0] + row[2] + row[3], row[1]) for row in n4grams]\n",
    "\n",
    "import random\n",
    "random.shuffle(data411)\n",
    "\n",
    "test411 = data411[:len(data411)/10]\n",
    "train411 = data411[len(data411)/10:]\n",
    "print(\"Train set length: %s\\nTest set length: %s\" % (len(train411), len(test411)))"
   ]
  },
  {
   "cell_type": "code",
   "execution_count": 60,
   "metadata": {
    "collapsed": true
   },
   "outputs": [],
   "source": [
    "train411 = train411[:200000]\n",
    "test411 = test411[:20000]"
   ]
  },
  {
   "cell_type": "code",
   "execution_count": 61,
   "metadata": {
    "collapsed": true
   },
   "outputs": [],
   "source": [
    "X411 = [row[0] for row in train411]\n",
    "Y411 = [row[1] for row in train411]"
   ]
  },
  {
   "cell_type": "code",
   "execution_count": 62,
   "metadata": {},
   "outputs": [
    {
     "data": {
      "text/plain": [
       "MLPClassifier(activation='relu', alpha=1e-05, batch_size='auto', beta_1=0.9,\n",
       "       beta_2=0.999, early_stopping=False, epsilon=1e-08,\n",
       "       hidden_layer_sizes=200, learning_rate='constant',\n",
       "       learning_rate_init=0.001, max_iter=200, momentum=0.9,\n",
       "       nesterovs_momentum=True, power_t=0.5, random_state=1, shuffle=True,\n",
       "       solver='lbfgs', tol=0.0001, validation_fraction=0.1, verbose=False,\n",
       "       warm_start=False)"
      ]
     },
     "execution_count": 62,
     "metadata": {},
     "output_type": "execute_result"
    }
   ],
   "source": [
    "from sklearn.neural_network import MLPClassifier\n",
    "clf411 = MLPClassifier(solver='lbfgs', alpha=1e-5,\n",
    "                       hidden_layer_sizes=(200), random_state=1)\n",
    "\n",
    "clf411.fit(X411, Y411)"
   ]
  },
  {
   "cell_type": "code",
   "execution_count": 63,
   "metadata": {
    "collapsed": true
   },
   "outputs": [],
   "source": [
    "validation_trigrams411 = []\n",
    "for row in validation_data:\n",
    "    validation_trigrams411.append((row[2] + row[4] + row[5], row[3]))"
   ]
  },
  {
   "cell_type": "code",
   "execution_count": 64,
   "metadata": {
    "collapsed": true
   },
   "outputs": [],
   "source": [
    "resA411, resC411 = acc_cover(validation_trigrams411, clf411)"
   ]
  },
  {
   "cell_type": "code",
   "execution_count": 65,
   "metadata": {},
   "outputs": [
    {
     "data": {
      "image/png": "[encoded data removed]",
      "text/plain": [
       "<matplotlib.figure.Figure at 0x10c3bbd90>"
      ]
     },
     "metadata": {},
     "output_type": "display_data"
    }
   ],
   "source": [
    "import matplotlib.pyplot as plt\n",
    "\n",
    "plt.xlabel('Coverage')\n",
    "plt.ylabel('Accuracy')\n",
    "plt.title('Coverage/Accuracy')\n",
    "plt.plot(resC311, resA311, 'r-', resC321, resA321, 'b-', resC411, resA411, 'g-')\n",
    "plt.axis([0, 100, 0, 100])\n",
    "plt.grid(True)\n",
    "plt.show()"
   ]
  },
  {
   "cell_type": "markdown",
   "metadata": {},
   "source": [
    "# 5Grams"
   ]
  },
  {
   "cell_type": "code",
   "execution_count": 66,
   "metadata": {
    "collapsed": true
   },
   "outputs": [],
   "source": [
    "N5GRAMS_FILE = \"data/ngrams/filtered_n5grams.tsv\""
   ]
  },
  {
   "cell_type": "code",
   "execution_count": 67,
   "metadata": {},
   "outputs": [
    {
     "name": "stdout",
     "output_type": "stream",
     "text": [
      "340618\n"
     ]
    }
   ],
   "source": [
    "n5grams =  load_ngrams(N5GRAMS_FILE)\n",
    "print(len(n5grams))"
   ]
  },
  {
   "cell_type": "code",
   "execution_count": 68,
   "metadata": {},
   "outputs": [
    {
     "name": "stdout",
     "output_type": "stream",
     "text": [
      "Train set length: 306557\n",
      "Test set length: 34061\n"
     ]
    }
   ],
   "source": [
    "n5grams_data = [(row[0] + row[1] + row[3] + row[4], row[2]) for row in n5grams]\n",
    "\n",
    "import random\n",
    "random.shuffle(n5grams_data)\n",
    "\n",
    "test511 = n5grams_data[:len(n5grams_data)/10]\n",
    "train511 = n5grams_data[len(n5grams_data)/10:]\n",
    "print(\"Train set length: %s\\nTest set length: %s\" % (len(train511), len(test511)))"
   ]
  },
  {
   "cell_type": "code",
   "execution_count": 69,
   "metadata": {
    "collapsed": true
   },
   "outputs": [],
   "source": [
    "X = [row[0] for row in train511]\n",
    "Y = [row[1] for row in train511]"
   ]
  },
  {
   "cell_type": "code",
   "execution_count": 70,
   "metadata": {},
   "outputs": [
    {
     "data": {
      "text/plain": [
       "MLPClassifier(activation='relu', alpha=1e-05, batch_size='auto', beta_1=0.9,\n",
       "       beta_2=0.999, early_stopping=False, epsilon=1e-08,\n",
       "       hidden_layer_sizes=220, learning_rate='constant',\n",
       "       learning_rate_init=0.001, max_iter=200, momentum=0.9,\n",
       "       nesterovs_momentum=True, power_t=0.5, random_state=1, shuffle=True,\n",
       "       solver='lbfgs', tol=0.0001, validation_fraction=0.1, verbose=False,\n",
       "       warm_start=False)"
      ]
     },
     "execution_count": 70,
     "metadata": {},
     "output_type": "execute_result"
    }
   ],
   "source": [
    "from sklearn.neural_network import MLPClassifier\n",
    "clf511 = MLPClassifier(solver='lbfgs', alpha=1e-5,\n",
    "                    hidden_layer_sizes=(220), random_state=1)\n",
    "\n",
    "clf511.fit(X, Y)"
   ]
  },
  {
   "cell_type": "code",
   "execution_count": 72,
   "metadata": {
    "collapsed": true
   },
   "outputs": [],
   "source": [
    "validation_ngrams511 = []\n",
    "for row in validation_data:\n",
    "    validation_ngrams511.append((row[1] + row[2] + row[4] + row[5], row[3]))"
   ]
  },
  {
   "cell_type": "code",
   "execution_count": 73,
   "metadata": {
    "collapsed": true
   },
   "outputs": [],
   "source": [
    "resA511, resC511 = acc_cover(validation_ngrams511, clf511)"
   ]
  },
  {
   "cell_type": "code",
   "execution_count": 74,
   "metadata": {},
   "outputs": [
    {
     "data": {
      "image/png": "[encoded data removed]",
      "text/plain": [
       "<matplotlib.figure.Figure at 0x10c331f90>"
      ]
     },
     "metadata": {},
     "output_type": "display_data"
    }
   ],
   "source": [
    "import matplotlib.pyplot as plt\n",
    "\n",
    "plt.xlabel('Coverage')\n",
    "plt.ylabel('Accuracy')\n",
    "plt.title('Coverage/Accuracy')\n",
    "plt.plot(resC311, resA311, 'r-', resC321, resA321, 'b-', resC411, resA411, 'g-', resC511, resA511, 'y-')\n",
    "plt.axis([0, 100, 0, 100])\n",
    "plt.grid(True)\n",
    "plt.show()"
   ]
  },
  {
   "cell_type": "markdown",
   "metadata": {},
   "source": [
    "# 6Grams"
   ]
  },
  {
   "cell_type": "code",
   "execution_count": 75,
   "metadata": {
    "collapsed": true
   },
   "outputs": [],
   "source": [
    "N6GRAMS_FILE = \"data/ngrams/filtered_n6grams1.tsv\""
   ]
  },
  {
   "cell_type": "code",
   "execution_count": 76,
   "metadata": {},
   "outputs": [
    {
     "name": "stdout",
     "output_type": "stream",
     "text": [
      "194542\n"
     ]
    }
   ],
   "source": [
    "n6grams =  load_ngrams(N6GRAMS_FILE)\n",
    "print(len(n6grams))"
   ]
  },
  {
   "cell_type": "code",
   "execution_count": 77,
   "metadata": {},
   "outputs": [
    {
     "name": "stdout",
     "output_type": "stream",
     "text": [
      "Train set length: 175088\n",
      "Test set length: 19454\n"
     ]
    }
   ],
   "source": [
    "n6grams_data = [(row[0] + row[1] + row[3] + row[4] + row[5], row[2]) for row in n6grams]\n",
    "\n",
    "import random\n",
    "random.shuffle(n5grams_data)\n",
    "\n",
    "test61 = n6grams_data[:len(n6grams_data)/10]\n",
    "train61 = n6grams_data[len(n6grams_data)/10:]\n",
    "print(\"Train set length: %s\\nTest set length: %s\" % (len(train61), len(test61)))"
   ]
  },
  {
   "cell_type": "code",
   "execution_count": 78,
   "metadata": {
    "collapsed": true
   },
   "outputs": [],
   "source": [
    "X = [row[0] for row in train61]\n",
    "Y = [row[1] for row in train61]"
   ]
  },
  {
   "cell_type": "code",
   "execution_count": 79,
   "metadata": {},
   "outputs": [
    {
     "data": {
      "text/plain": [
       "MLPClassifier(activation='relu', alpha=1e-05, batch_size='auto', beta_1=0.9,\n",
       "       beta_2=0.999, early_stopping=False, epsilon=1e-08,\n",
       "       hidden_layer_sizes=(220, 53), learning_rate='constant',\n",
       "       learning_rate_init=0.001, max_iter=200, momentum=0.9,\n",
       "       nesterovs_momentum=True, power_t=0.5, random_state=1, shuffle=True,\n",
       "       solver='lbfgs', tol=0.0001, validation_fraction=0.1, verbose=False,\n",
       "       warm_start=False)"
      ]
     },
     "execution_count": 79,
     "metadata": {},
     "output_type": "execute_result"
    }
   ],
   "source": [
    "from sklearn.neural_network import MLPClassifier\n",
    "clf61 = MLPClassifier(solver='lbfgs', alpha=1e-5,\n",
    "                    hidden_layer_sizes=(220, 53), random_state=1)\n",
    "\n",
    "clf61.fit(X, Y)"
   ]
  },
  {
   "cell_type": "code",
   "execution_count": 80,
   "metadata": {
    "collapsed": true
   },
   "outputs": [],
   "source": [
    "validation_ngrams61 = []\n",
    "for row in validation_data:\n",
    "    validation_ngrams61.append((row[1] + row[2] + row[4] + row[5] + row[6], row[3]))"
   ]
  },
  {
   "cell_type": "code",
   "execution_count": 81,
   "metadata": {
    "collapsed": true
   },
   "outputs": [],
   "source": [
    "resA61, resC61 = acc_cover(validation_ngrams61, clf61)"
   ]
  },
  {
   "cell_type": "code",
   "execution_count": 82,
   "metadata": {},
   "outputs": [
    {
     "data": {
      "image/png": "[encoded data removed]",
      "text/plain": [
       "<matplotlib.figure.Figure at 0x10d86c350>"
      ]
     },
     "metadata": {},
     "output_type": "display_data"
    }
   ],
   "source": [
    "import matplotlib.pyplot as plt\n",
    "\n",
    "plt.xlabel('Coverage')\n",
    "plt.ylabel('Accuracy')\n",
    "plt.title('Coverage/Accuracy')\n",
    "plt.plot(resC61, resA61, 'r-', resC321, resA321, 'b-', resC411, resA411, 'g-', resC511, resA511, 'y-')\n",
    "plt.axis([0, 100, 0, 100])\n",
    "plt.grid(True)\n",
    "plt.show()"
   ]
  },
  {
   "cell_type": "code",
   "execution_count": null,
   "metadata": {
    "collapsed": true
   },
   "outputs": [],
   "source": []
  }
 ],
 "metadata": {
  "kernelspec": {
   "display_name": "Python 2",
   "language": "python",
   "name": "python2"
  },
  "language_info": {
   "codemirror_mode": {
    "name": "ipython",
    "version": 2
   },
   "file_extension": ".py",
   "mimetype": "text/x-python",
   "name": "python",
   "nbconvert_exporter": "python",
   "pygments_lexer": "ipython2",
   "version": "2.7.13"
  }
 },
 "nbformat": 4,
 "nbformat_minor": 2
}
