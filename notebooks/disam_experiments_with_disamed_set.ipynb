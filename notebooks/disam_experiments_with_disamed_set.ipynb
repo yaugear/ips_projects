{
 "cells": [
  {
   "cell_type": "code",
   "execution_count": 1,
   "metadata": {
    "collapsed": true
   },
   "outputs": [],
   "source": [
    "from scripts.morph_aux import *"
   ]
  },
  {
   "cell_type": "code",
   "execution_count": 2,
   "metadata": {
    "collapsed": true
   },
   "outputs": [],
   "source": [
    "TRIGRAMS_FILE = \"data/ngrams/filtered_n3grams.tsv\"\n",
    "VERIFIED_TEXT_WORDS_FILE = \"data/verified_texts/words.csv\"\n",
    "VERIFIED_TEXT_DISAMED_FILE = \"data/verified_texts/disamed.csv\""
   ]
  },
  {
   "cell_type": "markdown",
   "metadata": {},
   "source": [
    "# 5gram disamed training set"
   ]
  },
  {
   "cell_type": "code",
   "execution_count": 3,
   "metadata": {
    "collapsed": true
   },
   "outputs": [],
   "source": [
    "rawdata = load_validation_data(VERIFIED_TEXT_DISAMED_FILE, VERIFIED_TEXT_WORDS_FILE)"
   ]
  },
  {
   "cell_type": "code",
   "execution_count": 13,
   "metadata": {},
   "outputs": [],
   "source": [
    "disamed_data = []\n",
    "for row in rawdata:\n",
    "    disamed_data.append((row[1] + row[2] + row[4] + row[5], row[3]))"
   ]
  },
  {
   "cell_type": "code",
   "execution_count": 24,
   "metadata": {},
   "outputs": [
    {
     "name": "stdout",
     "output_type": "stream",
     "text": [
      "Train set length: 20036\n",
      "Test set length: 2226\n"
     ]
    }
   ],
   "source": [
    "import random\n",
    "random.shuffle(data)\n",
    "\n",
    "test = disamed_data[:len(disamed_data)/10]\n",
    "train = disamed_data[len(disamed_data)/10:]\n",
    "print(\"Train set length: %s\\nTest set length: %s\" % (len(train), len(test)))"
   ]
  },
  {
   "cell_type": "code",
   "execution_count": 25,
   "metadata": {
    "collapsed": true
   },
   "outputs": [],
   "source": [
    "X = [row[0] for row in train]\n",
    "Y = [row[1][1] for row in train]"
   ]
  },
  {
   "cell_type": "code",
   "execution_count": 7,
   "metadata": {},
   "outputs": [
    {
     "data": {
      "text/plain": [
       "MLPClassifier(activation='relu', alpha=1e-05, batch_size='auto', beta_1=0.9,\n",
       "       beta_2=0.999, early_stopping=False, epsilon=1e-08,\n",
       "       hidden_layer_sizes=220, learning_rate='constant',\n",
       "       learning_rate_init=0.001, max_iter=200, momentum=0.9,\n",
       "       nesterovs_momentum=True, power_t=0.5, random_state=1, shuffle=True,\n",
       "       solver='lbfgs', tol=0.0001, validation_fraction=0.1, verbose=False,\n",
       "       warm_start=False)"
      ]
     },
     "execution_count": 7,
     "metadata": {},
     "output_type": "execute_result"
    }
   ],
   "source": [
    "from sklearn.neural_network import MLPClassifier\n",
    "clf = MLPClassifier(solver='lbfgs', alpha=1e-5,\n",
    "                    hidden_layer_sizes=(220), random_state=1)\n",
    "\n",
    "clf.fit(X, Y)"
   ]
  },
  {
   "cell_type": "code",
   "execution_count": 39,
   "metadata": {},
   "outputs": [
    {
     "data": {
      "text/plain": [
       "MLPClassifier(activation='relu', alpha=1e-05, batch_size='auto', beta_1=0.9,\n",
       "       beta_2=0.999, early_stopping=False, epsilon=1e-08,\n",
       "       hidden_layer_sizes=106, learning_rate='constant',\n",
       "       learning_rate_init=0.001, max_iter=200, momentum=0.9,\n",
       "       nesterovs_momentum=True, power_t=0.5, random_state=1, shuffle=True,\n",
       "       solver='lbfgs', tol=0.0001, validation_fraction=0.1, verbose=False,\n",
       "       warm_start=False)"
      ]
     },
     "execution_count": 39,
     "metadata": {},
     "output_type": "execute_result"
    }
   ],
   "source": [
    "from sklearn.neural_network import MLPClassifier\n",
    "clf12 = MLPClassifier(solver='lbfgs', alpha=1e-5,\n",
    "                    hidden_layer_sizes=(106), random_state=1)\n",
    "\n",
    "clf12.fit(X, Y)"
   ]
  },
  {
   "cell_type": "code",
   "execution_count": 36,
   "metadata": {},
   "outputs": [
    {
     "data": {
      "text/plain": [
       "MLPClassifier(activation='relu', alpha=1e-05, batch_size='auto', beta_1=0.9,\n",
       "       beta_2=0.999, early_stopping=False, epsilon=1e-08,\n",
       "       hidden_layer_sizes=(106, 53), learning_rate='adaptive',\n",
       "       learning_rate_init=0.001, max_iter=400, momentum=0.9,\n",
       "       nesterovs_momentum=True, power_t=0.5, random_state=1, shuffle=True,\n",
       "       solver='sgd', tol=0.0001, validation_fraction=0.1, verbose=False,\n",
       "       warm_start=False)"
      ]
     },
     "execution_count": 36,
     "metadata": {},
     "output_type": "execute_result"
    }
   ],
   "source": [
    "from sklearn.neural_network import MLPClassifier\n",
    "clf13 = MLPClassifier(solver='sgd', alpha=1e-5,\n",
    "                      hidden_layer_sizes=(106, 53), \n",
    "                      learning_rate='adaptive',\n",
    "                      random_state=1,\n",
    "                      max_iter=400)\n",
    "\n",
    "clf13.fit(X, Y)"
   ]
  },
  {
   "cell_type": "markdown",
   "metadata": {},
   "source": [
    "## Test"
   ]
  },
  {
   "cell_type": "code",
   "execution_count": 8,
   "metadata": {},
   "outputs": [
    {
     "name": "stdout",
     "output_type": "stream",
     "text": [
      "0\t2226\t161\n",
      "Accuracy (h=1): 100%\n",
      "Coverage (h=1):  7%\n",
      "371\t2226\t1292\n",
      "Accuracy (h=3): 71%\n",
      "Coverage (h=3): 58%\n",
      "865\t2226\t2023\n",
      "Accuracy (h=5): 57%\n",
      "Coverage (h=5): 91%\n"
     ]
    }
   ],
   "source": [
    "err, lenX, lenA = testit_val_with_h(test, clf, 1)\n",
    "print(\"%s\\t%s\\t%s\" % (err, lenX, lenA))\n",
    "if lenA > 0:\n",
    "    print('Accuracy (h=1): %2.f%%' % ((lenA - err) * 100./lenA))\n",
    "    print('Coverage (h=1): %2.f%%' % (lenA * 100./lenX))\n",
    "err, lenX, lenA = testit_val_with_h(test, clf, 3)\n",
    "print(\"%s\\t%s\\t%s\" % (err, lenX, lenA))\n",
    "if lenA > 0:\n",
    "    print('Accuracy (h=3): %2.f%%' % ((lenA - err) * 100./lenA))\n",
    "    print('Coverage (h=3): %2.f%%' % (lenA * 100./lenX))\n",
    "err, lenX, lenA = testit_val_with_h(test, clf, 5)\n",
    "print(\"%s\\t%s\\t%s\" % (err, lenX, lenA))\n",
    "if lenA > 0:\n",
    "    print('Accuracy (h=5): %2.f%%' % ((lenA - err) * 100./lenA))\n",
    "    print('Coverage (h=5): %2.f%%' % (lenA * 100./lenX))"
   ]
  },
  {
   "cell_type": "code",
   "execution_count": 9,
   "metadata": {
    "collapsed": true
   },
   "outputs": [],
   "source": [
    "resA, resC = acc_cover(test, clf)"
   ]
  },
  {
   "cell_type": "code",
   "execution_count": 40,
   "metadata": {
    "collapsed": true
   },
   "outputs": [],
   "source": [
    "resA12, resC12 = acc_cover(test, clf12)"
   ]
  },
  {
   "cell_type": "code",
   "execution_count": 37,
   "metadata": {
    "collapsed": true
   },
   "outputs": [],
   "source": [
    "resA13, resC13 = acc_cover(test, clf13) # sgd"
   ]
  },
  {
   "cell_type": "code",
   "execution_count": 41,
   "metadata": {},
   "outputs": [
    {
     "data": {
      "image/png": "[encoded data removed]",
      "text/plain": [
       "<matplotlib.figure.Figure at 0x11b46a390>"
      ]
     },
     "metadata": {},
     "output_type": "display_data"
    }
   ],
   "source": [
    "import matplotlib.pyplot as plt\n",
    "\n",
    "plt.xlabel('Coverage')\n",
    "plt.ylabel('Accuracy')\n",
    "plt.title('Coverage/Accuracy')\n",
    "plt.plot(resC, resA, 'b-', resC12, resA12, 'r-', resC13, resA13, 'g-')\n",
    "plt.axis([0, 100, 0, 100])\n",
    "plt.grid(True)\n",
    "plt.show()"
   ]
  },
  {
   "cell_type": "markdown",
   "metadata": {},
   "source": [
    "# 5gram from NGram set + 5gram from disamed dataset"
   ]
  },
  {
   "cell_type": "code",
   "execution_count": 11,
   "metadata": {
    "collapsed": true
   },
   "outputs": [],
   "source": [
    "N5GRAMS_FILE = \"data/ngrams/filtered_n5grams.tsv\""
   ]
  },
  {
   "cell_type": "code",
   "execution_count": 12,
   "metadata": {},
   "outputs": [
    {
     "name": "stdout",
     "output_type": "stream",
     "text": [
      "340618\n"
     ]
    }
   ],
   "source": [
    "n5grams =  load_ngrams(N5GRAMS_FILE)\n",
    "print(len(n5grams))"
   ]
  },
  {
   "cell_type": "code",
   "execution_count": 17,
   "metadata": {},
   "outputs": [
    {
     "name": "stdout",
     "output_type": "stream",
     "text": [
      "Train set length: 326593\n",
      "Test set length: 36287\n"
     ]
    }
   ],
   "source": [
    "n5grams_data = [(row[0] + row[1] + row[3] + row[4], row[2]) for row in n5grams]\n",
    "\n",
    "import random\n",
    "random.shuffle(n5grams_data)\n",
    "random.shuffle(disamed_data)\n",
    "\n",
    "test = n5grams_data[:len(n5grams_data)/10] + [(row[0], row[1][1]) for row in disamed_data[:len(disamed_data)/10]]\n",
    "train = n5grams_data[len(n5grams_data)/10:] + [(row[0], row[1][1]) for row in disamed_data[len(disamed_data)/10:]]\n",
    "print(\"Train set length: %s\\nTest set length: %s\" % (len(train), len(test)))"
   ]
  },
  {
   "cell_type": "code",
   "execution_count": 18,
   "metadata": {
    "collapsed": true
   },
   "outputs": [],
   "source": [
    "X = [row[0] for row in train]\n",
    "Y = [row[1] for row in train]"
   ]
  },
  {
   "cell_type": "code",
   "execution_count": 19,
   "metadata": {},
   "outputs": [
    {
     "data": {
      "text/plain": [
       "MLPClassifier(activation='relu', alpha=1e-05, batch_size='auto', beta_1=0.9,\n",
       "       beta_2=0.999, early_stopping=False, epsilon=1e-08,\n",
       "       hidden_layer_sizes=220, learning_rate='constant',\n",
       "       learning_rate_init=0.001, max_iter=200, momentum=0.9,\n",
       "       nesterovs_momentum=True, power_t=0.5, random_state=1, shuffle=True,\n",
       "       solver='lbfgs', tol=0.0001, validation_fraction=0.1, verbose=False,\n",
       "       warm_start=False)"
      ]
     },
     "execution_count": 19,
     "metadata": {},
     "output_type": "execute_result"
    }
   ],
   "source": [
    "from sklearn.neural_network import MLPClassifier\n",
    "clf = MLPClassifier(solver='lbfgs', alpha=1e-5,\n",
    "                    hidden_layer_sizes=(220), random_state=1)\n",
    "\n",
    "clf.fit(X, Y)"
   ]
  },
  {
   "cell_type": "code",
   "execution_count": 20,
   "metadata": {
    "collapsed": true
   },
   "outputs": [],
   "source": [
    "val = [(row[0], row[1]) for row in disamed_data[:len(disamed_data)/10]]"
   ]
  },
  {
   "cell_type": "code",
   "execution_count": 21,
   "metadata": {},
   "outputs": [
    {
     "name": "stdout",
     "output_type": "stream",
     "text": [
      "0\t2226\t81\n",
      "Accuracy (h=1): 100%\n",
      "Coverage (h=1):  4%\n",
      "378\t2226\t1280\n",
      "Accuracy (h=3): 70%\n",
      "Coverage (h=3): 58%\n",
      "895\t2226\t2016\n",
      "Accuracy (h=5): 56%\n",
      "Coverage (h=5): 91%\n"
     ]
    }
   ],
   "source": [
    "err, lenX, lenA = testit_val_with_h(val, clf, 1)\n",
    "print(\"%s\\t%s\\t%s\" % (err, lenX, lenA))\n",
    "if lenA > 0:\n",
    "    print('Accuracy (h=1): %2.f%%' % ((lenA - err) * 100./lenA))\n",
    "    print('Coverage (h=1): %2.f%%' % (lenA * 100./lenX))\n",
    "err, lenX, lenA = testit_val_with_h(val, clf, 3)\n",
    "print(\"%s\\t%s\\t%s\" % (err, lenX, lenA))\n",
    "if lenA > 0:\n",
    "    print('Accuracy (h=3): %2.f%%' % ((lenA - err) * 100./lenA))\n",
    "    print('Coverage (h=3): %2.f%%' % (lenA * 100./lenX))\n",
    "err, lenX, lenA = testit_val_with_h(val, clf, 5)\n",
    "print(\"%s\\t%s\\t%s\" % (err, lenX, lenA))\n",
    "if lenA > 0:\n",
    "    print('Accuracy (h=5): %2.f%%' % ((lenA - err) * 100./lenA))\n",
    "    print('Coverage (h=5): %2.f%%' % (lenA * 100./lenX))"
   ]
  },
  {
   "cell_type": "code",
   "execution_count": 22,
   "metadata": {
    "collapsed": true
   },
   "outputs": [],
   "source": [
    "resA2, resC2 = acc_cover(val, clf)"
   ]
  },
  {
   "cell_type": "code",
   "execution_count": 23,
   "metadata": {},
   "outputs": [
    {
     "data": {
      "image/png": "[encoded data removed]",
      "text/plain": [
       "<matplotlib.figure.Figure at 0x110af5dd0>"
      ]
     },
     "metadata": {},
     "output_type": "display_data"
    }
   ],
   "source": [
    "import matplotlib.pyplot as plt\n",
    "\n",
    "plt.xlabel('Coverage')\n",
    "plt.ylabel('Accuracy')\n",
    "plt.title('Coverage/Accuracy')\n",
    "plt.plot(resC, resA, 'r-', resC2, resA2, 'b-')\n",
    "plt.axis([0, 100, 0, 100])\n",
    "plt.grid(True)\n",
    "plt.show()"
   ]
  },
  {
   "cell_type": "markdown",
   "metadata": {},
   "source": [
    "# 4Gram disamed set"
   ]
  },
  {
   "cell_type": "code",
   "execution_count": 42,
   "metadata": {
    "collapsed": true
   },
   "outputs": [],
   "source": [
    "disamed_data = []\n",
    "for row in rawdata:\n",
    "    disamed_data.append((row[2] + row[4] + row[5], row[3]))"
   ]
  },
  {
   "cell_type": "code",
   "execution_count": 43,
   "metadata": {},
   "outputs": [
    {
     "name": "stdout",
     "output_type": "stream",
     "text": [
      "Train set length: 20036\n",
      "Test set length: 2226\n"
     ]
    }
   ],
   "source": [
    "import random\n",
    "random.shuffle(data)\n",
    "\n",
    "test = disamed_data[:len(disamed_data)/10]\n",
    "train = disamed_data[len(disamed_data)/10:]\n",
    "print(\"Train set length: %s\\nTest set length: %s\" % (len(train), len(test)))"
   ]
  },
  {
   "cell_type": "code",
   "execution_count": 44,
   "metadata": {
    "collapsed": true
   },
   "outputs": [],
   "source": [
    "X = [row[0] for row in train]\n",
    "Y = [row[1][1] for row in train]"
   ]
  },
  {
   "cell_type": "code",
   "execution_count": 45,
   "metadata": {},
   "outputs": [
    {
     "data": {
      "text/plain": [
       "MLPClassifier(activation='relu', alpha=1e-05, batch_size='auto', beta_1=0.9,\n",
       "       beta_2=0.999, early_stopping=False, epsilon=1e-08,\n",
       "       hidden_layer_sizes=106, learning_rate='constant',\n",
       "       learning_rate_init=0.001, max_iter=200, momentum=0.9,\n",
       "       nesterovs_momentum=True, power_t=0.5, random_state=1, shuffle=True,\n",
       "       solver='lbfgs', tol=0.0001, validation_fraction=0.1, verbose=False,\n",
       "       warm_start=False)"
      ]
     },
     "execution_count": 45,
     "metadata": {},
     "output_type": "execute_result"
    }
   ],
   "source": [
    "from sklearn.neural_network import MLPClassifier\n",
    "clf = MLPClassifier(solver='lbfgs', alpha=1e-5,\n",
    "                    hidden_layer_sizes=(106), random_state=1)\n",
    "\n",
    "clf.fit(X, Y)"
   ]
  },
  {
   "cell_type": "code",
   "execution_count": 46,
   "metadata": {
    "collapsed": true
   },
   "outputs": [],
   "source": [
    "resA41, resC41 = acc_cover(test, clf)"
   ]
  },
  {
   "cell_type": "code",
   "execution_count": 48,
   "metadata": {},
   "outputs": [
    {
     "data": {
      "image/png": "[encoded data removed]",
      "text/plain": [
       "<matplotlib.figure.Figure at 0x10d522750>"
      ]
     },
     "metadata": {},
     "output_type": "display_data"
    }
   ],
   "source": [
    "import matplotlib.pyplot as plt\n",
    "\n",
    "plt.xlabel('Coverage')\n",
    "plt.ylabel('Accuracy')\n",
    "plt.title('Coverage/Accuracy')\n",
    "plt.plot(resC, resA, 'r-', resC2, resA2, 'b-', resC41, resA41, 'g-')\n",
    "plt.axis([0, 100, 0, 100])\n",
    "plt.grid(True)\n",
    "plt.show()"
   ]
  },
  {
   "cell_type": "code",
   "execution_count": null,
   "metadata": {
    "collapsed": true
   },
   "outputs": [],
   "source": []
  }
 ],
 "metadata": {
  "kernelspec": {
   "display_name": "Python 2",
   "language": "python",
   "name": "python2"
  },
  "language_info": {
   "codemirror_mode": {
    "name": "ipython",
    "version": 2
   },
   "file_extension": ".py",
   "mimetype": "text/x-python",
   "name": "python",
   "nbconvert_exporter": "python",
   "pygments_lexer": "ipython2",
   "version": "2.7.13"
  }
 },
 "nbformat": 4,
 "nbformat_minor": 2
}
